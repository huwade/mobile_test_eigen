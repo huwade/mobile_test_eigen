{
 "cells": [
  {
   "cell_type": "code",
   "execution_count": 47,
   "metadata": {},
   "outputs": [],
   "source": [
    "import numpy as np"
   ]
  },
  {
   "cell_type": "code",
   "execution_count": 200,
   "metadata": {},
   "outputs": [],
   "source": [
    "def parse_ngram(line, n):\n",
    "    \n",
    "    def join_string(w):\n",
    "        w = list(w)\n",
    "        w = tuple(w)\n",
    "        return w\n",
    "    \n",
    "    line = line.lower().strip().split(\" \")\n",
    "    \n",
    "    if n == 3:\n",
    "        \n",
    "        n1 = np.array(line[:-2])\n",
    "        n2 = np.array(line[1:-1])\n",
    "        n3 = np.array(line[2:])\n",
    "        \n",
    "        n1 = n1[:, np.newaxis]\n",
    "        n2 = n2[:, np.newaxis]\n",
    "        n3 = n3[:, np.newaxis]\n",
    "        \n",
    "        n1n2n3 = np.concatenate([n1, n2, n3], axis=1)\n",
    "        n1n2n3 = [join_string(w) for w in n1n2n3]\n",
    "        \n",
    "        return n1n2n3\n",
    "        \n",
    "    \n",
    "    if n == 2:\n",
    "        \n",
    "        n1 = np.array(line[:-1])\n",
    "        n2 = np.array(line[1:])\n",
    "        \n",
    "        \n",
    "        n1 = n1[:, np.newaxis]\n",
    "        n2 = n2[:, np.newaxis]\n",
    "\n",
    "        n1n2 = np.concatenate([n1, n2], axis=1)\n",
    "        n1n2 = [join_string(w) for w in n1n2]\n",
    "    \n",
    "        return n1n2\n",
    "    \n",
    "    "
   ]
  },
  {
   "cell_type": "code",
   "execution_count": 214,
   "metadata": {},
   "outputs": [],
   "source": [
    "def update_dict(parsed_data):\n",
    "    \n",
    "    word_dict = {}\n",
    "    \n",
    "    for block in parsed_data:\n",
    "        for word in block:\n",
    "            \n",
    "            if word not in word_dict:\n",
    "                word_dict[word] = 1\n",
    "            else:\n",
    "                word_dict[word] += 1\n",
    "                \n",
    "    totol = sum(list(word_dict.values()))\n",
    "    \n",
    "    for word in word_dict:\n",
    "        word_dict[word] = 1.0 * word_dict[word] / totol\n",
    "        \n",
    "    return word_dict\n",
    "    "
   ]
  },
  {
   "cell_type": "code",
   "execution_count": null,
   "metadata": {},
   "outputs": [],
   "source": []
  },
  {
   "cell_type": "code",
   "execution_count": 220,
   "metadata": {},
   "outputs": [],
   "source": [
    "def ngram_probs(filename='raw_sentences.txt'):\n",
    "    \n",
    "    with open(\"new 4.txt\", \"r\") as f:\n",
    "        data = f.readlines()\n",
    "        \n",
    "    parsed_data = [parse_ngram(line, n=2) for line in data]\n",
    "    bigram_probs = update_dict(parsed_data)\n",
    "\n",
    "    \n",
    "    parsed_data = [parse_ngram(line, n=3) for line in data]\n",
    "    trigram_probs = update_dict(parsed_data)\n",
    "    \n",
    "    return bigram_probs, trigram_probs\n",
    "    \n",
    "    \n",
    "    "
   ]
  },
  {
   "cell_type": "code",
   "execution_count": 221,
   "metadata": {},
   "outputs": [],
   "source": [
    "cnt2, cnt3 = ngram_probs()"
   ]
  },
  {
   "cell_type": "code",
   "execution_count": 253,
   "metadata": {},
   "outputs": [],
   "source": [
    "def return_dict(bigram, cnt3):\n",
    "    \n",
    "    \n",
    "    w1, w2 = bigram\n",
    "    \n",
    "    p = {}\n",
    "    \n",
    "    for u, v, w in cnt3.keys():\n",
    "        \n",
    "        if u == w1 and v == w2 :\n",
    "            p[(u, v, w)] = cnt3[(u, v, w)]\n",
    "            \n",
    "    \n",
    "    return p       \n",
    "    "
   ]
  },
  {
   "cell_type": "code",
   "execution_count": 254,
   "metadata": {},
   "outputs": [
    {
     "data": {
      "text/plain": [
       "{('did', 'from', 'the'): 1.7254320050382615e-06}"
      ]
     },
     "execution_count": 254,
     "metadata": {},
     "output_type": "execute_result"
    }
   ],
   "source": [
    "return_dict(('did', 'from'), cnt3)"
   ]
  },
  {
   "cell_type": "code",
   "execution_count": 240,
   "metadata": {},
   "outputs": [],
   "source": [
    "bigram = ('did', 'from')"
   ]
  },
  {
   "cell_type": "code",
   "execution_count": 255,
   "metadata": {},
   "outputs": [
    {
     "data": {
      "text/plain": [
       "1.4777007567305575e-06"
      ]
     },
     "execution_count": 255,
     "metadata": {},
     "output_type": "execute_result"
    }
   ],
   "source": [
    "cnt2[bigram]"
   ]
  },
  {
   "cell_type": "code",
   "execution_count": 265,
   "metadata": {},
   "outputs": [],
   "source": [
    "def prob3(bigram, cnt2=cnt2, cnt3=cnt3):\n",
    "\n",
    "    cnt2_prob = cnt2[bigram]\n",
    "    cnt3_dict = return_dict(bigram, cnt3)\n",
    "    \n",
    "    p = {}\n",
    "    for u, v, w in cnt3_dict:\n",
    "        p[w] = 1.0 * cnt3_dict[(u, v, w)] / cnt2_prob\n",
    "        \n",
    "    return p\n",
    "    \n",
    "\n",
    "    \n",
    "\n"
   ]
  },
  {
   "cell_type": "code",
   "execution_count": 266,
   "metadata": {},
   "outputs": [],
   "source": [
    "p = prob3(('we', 'are'))\n"
   ]
  },
  {
   "cell_type": "code",
   "execution_count": 269,
   "metadata": {},
   "outputs": [
    {
     "name": "stdout",
     "output_type": "stream",
     "text": [
      "0.0051790768827454856\n"
     ]
    }
   ],
   "source": [
    "print(p[\"family\"])"
   ]
  },
  {
   "cell_type": "code",
   "execution_count": null,
   "metadata": {},
   "outputs": [],
   "source": []
  }
 ],
 "metadata": {
  "kernelspec": {
   "display_name": "Python 3",
   "language": "python",
   "name": "python3"
  },
  "language_info": {
   "codemirror_mode": {
    "name": "ipython",
    "version": 3
   },
   "file_extension": ".py",
   "mimetype": "text/x-python",
   "name": "python",
   "nbconvert_exporter": "python",
   "pygments_lexer": "ipython3",
   "version": "3.5.5"
  }
 },
 "nbformat": 4,
 "nbformat_minor": 2
}
